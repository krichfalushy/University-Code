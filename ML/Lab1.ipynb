{
  "nbformat": 4,
  "nbformat_minor": 0,
  "metadata": {
    "colab": {
      "provenance": [],
      "toc_visible": true
    },
    "kernelspec": {
      "name": "python3",
      "display_name": "Python 3"
    },
    "language_info": {
      "name": "python"
    }
  },
  "cells": [
    {
      "cell_type": "markdown",
      "source": [
        "# Лаборатнорна робота №1"
      ],
      "metadata": {
        "id": "YYO_B_wT_ILa"
      }
    },
    {
      "cell_type": "markdown",
      "source": [
        "## Варiант 5\n",
        "*   Файл з даними: NAICExpense.csv\n",
        "*   Вiдгук: EXPENSES\n",
        "*   Регресори: GPWPERSONAL, GPWCOMM, ASSETS, CASH, LIQUIDRATIO"
      ],
      "metadata": {
        "id": "TWlzvL2sAHWr"
      }
    },
    {
      "cell_type": "markdown",
      "source": [
        "### Для проведення регресiйного аналiзу потрбiно зробити наступне:\n",
        "\n",
        "1. Побудувати ОНК, зробити висновки, щодо якостi моделi та ОНК.\n",
        "2. Спробувати покращити оцiнку, шляхом використання гребеневої регресiї.\n",
        "3. Спробуйте покращити оцiнку додавши у модель нелiнiйнiсть.\n",
        "4. З’ясуйте чи можна зменшити кiлькiсть регресорiв без суттєвої шкоди для моделi."
      ],
      "metadata": {
        "id": "2FXy9LsaAzvp"
      }
    },
    {
      "cell_type": "code",
      "source": [
        "import numpy as np\n",
        "import pandas as pd\n",
        "import matplotlib.pyplot as plt\n",
        "\n",
        "\n",
        "df = pd.read_csv(\"/content/sample_data/NAICExpense.csv\")\n",
        "print(df.head(), \"\\n\")\n",
        "print(f\"Розмір таблиці: {df.shape}\")"
      ],
      "metadata": {
        "colab": {
          "base_uri": "https://localhost:8080/"
        },
        "id": "wazy8qEZAuzg",
        "outputId": "62a7396a-1b4e-4d5c-8c8d-e1e239251785"
      },
      "execution_count": 77,
      "outputs": [
        {
          "output_type": "stream",
          "name": "stdout",
          "text": [
            "                         COMPANY_NAME  GROUP  MUTUAL  STOCK         RBC  \\\n",
            "0            Tift Area Captive Ins Co      0       0      1   228184000   \n",
            "1  Alliance Of Nonprofits For Ins RRG      0       0      0  1627708000   \n",
            "2    GA Timber Harvesters Mut Captive      0       1      0   422907000   \n",
            "3         American Natl Lloyds Ins Co      1       0      0   652906000   \n",
            "4                   Chubb Natl Ins Co      1       0      1  8124624000   \n",
            "\n",
            "   EXPENSES  STAFFWAGE  AGENTWAGE  LONGLOSS  SHORTLOSS  GPWPERSONAL   GPWCOMM  \\\n",
            "0  0.000802  84.405080  77.460997  0.000187   0.000000     0.000000  0.001375   \n",
            "1  0.004488  81.567543  84.878023  0.002782   0.000000     0.000000  0.012273   \n",
            "2  0.001905  84.405080  77.460997  0.001012   0.001330     0.000000  0.005028   \n",
            "3  0.002291  82.497883  75.710707  0.000000   0.002980     0.029545  0.001986   \n",
            "4  0.018296  79.264952  78.247902  0.010794   0.011777     0.040614  0.058094   \n",
            "\n",
            "     ASSETS      CASH  LIQUIDRATIO  \n",
            "0  0.002950  0.003258   110.456606  \n",
            "1  0.022170  0.019760    89.129615  \n",
            "2  0.004617  0.003500    75.794716  \n",
            "3  0.043720  0.040935    93.629838  \n",
            "4  0.144773  0.138424    95.614597   \n",
            "\n",
            "Розмір таблиці: (384, 15)\n"
          ]
        }
      ]
    },
    {
      "cell_type": "markdown",
      "source": [
        "## Фічиризація"
      ],
      "metadata": {
        "id": "JgT4eAEjxYYC"
      }
    },
    {
      "cell_type": "code",
      "source": [
        "from sklearn.model_selection import train_test_split\n",
        "\n",
        "\n",
        "df = df.apply(pd.to_numeric, errors=\"ignore\")\n",
        "df_copy = df.fillna(df.mean())\n",
        "\n",
        "columns = [\"GPWPERSONAL\", \"GPWCOMM\", \"ASSETS\", \"CASH\", \"LIQUIDRATIO\"]\n",
        "\n",
        "# Нормалізація даних\n",
        "for column in columns:\n",
        "  df_copy[column] = (df_copy[column] - df_copy[column].mean()) / df_copy[column].std()\n",
        "\n",
        "X = df_copy[columns].values\n",
        "y = df_copy[\"EXPENSES\"]\n",
        "\n",
        "print(X)\n",
        "print(y)"
      ],
      "metadata": {
        "colab": {
          "base_uri": "https://localhost:8080/"
        },
        "id": "5uQ2z1wYW-ey",
        "outputId": "0b67688b-f39c-49df-fe91-5b953f5952e7"
      },
      "execution_count": 78,
      "outputs": [
        {
          "output_type": "stream",
          "name": "stdout",
          "text": [
            "[[-0.30594177 -0.38193213 -0.34853747 -0.33998338  1.07555647]\n",
            " [-0.30594177 -0.3476159  -0.32959187 -0.32296222 -0.20883334]\n",
            " [-0.30594177 -0.37042866 -0.34689391 -0.3397345  -1.01190997]\n",
            " ...\n",
            " [-0.30594177  2.08637588  1.18781658  0.70043321 -1.67394531]\n",
            " [-0.10130034 -0.31588613 -0.31581534 -0.31398558 -0.83432794]\n",
            " [-0.30594177 -0.32567339 -0.34492996 -0.33635455  0.59777064]]\n",
            "0      0.000802\n",
            "1      0.004488\n",
            "2      0.001905\n",
            "3      0.002291\n",
            "4      0.018296\n",
            "         ...   \n",
            "379    0.014602\n",
            "380    0.000028\n",
            "381    0.032323\n",
            "382    0.004609\n",
            "383    0.007078\n",
            "Name: EXPENSES, Length: 384, dtype: float64\n"
          ]
        },
        {
          "output_type": "stream",
          "name": "stderr",
          "text": [
            "<ipython-input-78-abc2ee21e7dc>:5: FutureWarning: The default value of numeric_only in DataFrame.mean is deprecated. In a future version, it will default to False. In addition, specifying 'numeric_only=None' is deprecated. Select only valid columns or specify the value of numeric_only to silence this warning.\n",
            "  df_copy = df.fillna(df.mean())\n"
          ]
        }
      ]
    },
    {
      "cell_type": "markdown",
      "source": [
        "## Навчання"
      ],
      "metadata": {
        "id": "eZD7RYNYY7Xz"
      }
    },
    {
      "cell_type": "code",
      "source": [
        "from sklearn.linear_model import LinearRegression\n",
        "\n",
        "\n",
        "X_train, X_test, y_train, y_test = train_test_split(X, y, test_size=0.2, random_state=42)\n",
        "\n",
        "linear_reg = LinearRegression().fit(X_train, y_train)\n",
        "lr_pred = linear_reg.predict(X_test)\n",
        "\n",
        "print(f\"X_train: {X_train.shape}; X_test: {X_test.shape}; y_train: {y_train.shape}; y_test: {y_test.shape}\")"
      ],
      "metadata": {
        "colab": {
          "base_uri": "https://localhost:8080/"
        },
        "id": "ehhwNsnuxUr7",
        "outputId": "743b5769-832f-437a-f3a3-8dfc88f6ecc1"
      },
      "execution_count": 79,
      "outputs": [
        {
          "output_type": "stream",
          "name": "stdout",
          "text": [
            "X_train: (307, 5); X_test: (77, 5); y_train: (307,); y_test: (77,)\n"
          ]
        }
      ]
    },
    {
      "cell_type": "markdown",
      "source": [
        "## Оцінка"
      ],
      "metadata": {
        "id": "rAm6WEXJcpec"
      }
    },
    {
      "cell_type": "code",
      "source": [
        "from sklearn.metrics import mean_squared_error\n",
        "\n",
        "\n",
        "def mse(x, y):\n",
        "  n = len(x.shape)\n",
        "  return np.sum((x - y) ** 2) / n\n",
        "\n",
        "\n",
        "print(f\"mse_f: {mean_squared_error(y_test, lr_pred)}, mse: {mse(lr_pred, y_test)}\")"
      ],
      "metadata": {
        "colab": {
          "base_uri": "https://localhost:8080/"
        },
        "id": "NTchuGxRZ91E",
        "outputId": "4cf83437-50c3-44ee-d385-65a07af6f86a"
      },
      "execution_count": 80,
      "outputs": [
        {
          "output_type": "stream",
          "name": "stdout",
          "text": [
            "mse_f: 0.002083086260759995, mse: 0.16039764207851961\n"
          ]
        }
      ]
    },
    {
      "cell_type": "code",
      "source": [
        "plt.grid()\n",
        "plt.scatter(lr_pred, y_test, alpha=0.6)\n",
        "plt.xlabel(\"predict\")\n",
        "plt.ylabel(\"y_test\")\n",
        "plt.show()\n",
        "\n",
        "# plt.grid()\n",
        "# plt.plot(lr_pred, y_test, color=\"r\")\n",
        "# plt.show()"
      ],
      "metadata": {
        "colab": {
          "base_uri": "https://localhost:8080/",
          "height": 449
        },
        "id": "RnlkiJN-hRgb",
        "outputId": "2d3a3138-94ee-4b0b-fe62-27d24551f28c"
      },
      "execution_count": 81,
      "outputs": [
        {
          "output_type": "display_data",
          "data": {
            "text/plain": [
              "<Figure size 640x480 with 1 Axes>"
            ],
            "image/png": "[encoded data removed]"
          },
          "metadata": {}
        }
      ]
    },
    {
      "cell_type": "code",
      "source": [
        "x_te, x_val, y_te, y_val = train_test_split(X_test, y_test, test_size=0.3)\n",
        "\n",
        "lr = LinearRegression().fit(x_te, y_te)\n",
        "\n",
        "print(f\"x_te: {x_te.shape}; x_val: {x_val.shape}; y_te: {y_te.shape}; y_val: {y_val.shape}\")"
      ],
      "metadata": {
        "colab": {
          "base_uri": "https://localhost:8080/"
        },
        "id": "Q410Eq8F1wYS",
        "outputId": "39360da7-7f88-4e40-99b4-98f3447bd57b"
      },
      "execution_count": 82,
      "outputs": [
        {
          "output_type": "stream",
          "name": "stdout",
          "text": [
            "x_te: (53, 5); x_val: (24, 5); y_te: (53,); y_val: (24,)\n"
          ]
        }
      ]
    },
    {
      "cell_type": "code",
      "source": [
        "print(f\"mse_te: {mse(lr.predict(x_te), y_te)}, mse_val: {mse(lr.predict(x_val), y_val)}\")\n",
        "print(f\"mse_f_te: {mean_squared_error(y_te, lr.predict(x_te))}, mse_f_val: {mean_squared_error(y_val, lr.predict(x_val))}\")"
      ],
      "metadata": {
        "colab": {
          "base_uri": "https://localhost:8080/"
        },
        "id": "bWzkocYd2MKC",
        "outputId": "59292f7b-3da3-4196-a774-4277642e3eb1"
      },
      "execution_count": 83,
      "outputs": [
        {
          "output_type": "stream",
          "name": "stdout",
          "text": [
            "mse_te: 0.03201179276731332, mse_val: 0.007928345228745396\n",
            "mse_f_te: 0.000603996089949308, mse_f_val: 0.0003303477178643915\n"
          ]
        }
      ]
    },
    {
      "cell_type": "code",
      "source": [
        "plt.grid()\n",
        "plt.subplots_adjust(right=1.2)\n",
        "plt.scatter(lr.predict(x_te), y_te, alpha=0.4)\n",
        "plt.scatter(lr.predict(x_val), y_val, alpha=0.4, color=\"orange\")\n",
        "plt.show()"
      ],
      "metadata": {
        "colab": {
          "base_uri": "https://localhost:8080/",
          "height": 430
        },
        "id": "01NzYPfj2z9j",
        "outputId": "d7a61cc2-18dd-4200-f3d1-7b3adda2d6d4"
      },
      "execution_count": 84,
      "outputs": [
        {
          "output_type": "display_data",
          "data": {
            "text/plain": [
              "<Figure size 640x480 with 1 Axes>"
            ],
            "image/png": "[encoded data removed]"
          },
          "metadata": {}
        }
      ]
    },
    {
      "cell_type": "markdown",
      "source": [
        "## Покращення моделі за допомогою регуляризатора\n",
        "До функціонала, що оптимізується, додають L1 або L2 норму ваг, помножену на коефіцієнт регуляризації λ. У першому випадку метод називається Lasso, а в другому - Ridge."
      ],
      "metadata": {
        "id": "gC5Upb06FTcc"
      }
    },
    {
      "cell_type": "code",
      "source": [
        "from sklearn.linear_model import Lasso, Ridge\n",
        "\n",
        "\n",
        "coefs_lasso = []\n",
        "coefs_ridge = []\n",
        "\n",
        "train_lasso_predicts = []\n",
        "test_lasso_predicts = []\n",
        "\n",
        "train_ridge_predicts = []\n",
        "test_ridge_predicts = []\n",
        "\n",
        "mse_lasso_tr = []\n",
        "mse_lasso_te = []\n",
        "mse_ridge_tr = []\n",
        "mse_ridge_te = []\n",
        "\n",
        "alphas = [0.1, 0.2, 0.3, 0.5, 0.7]\n",
        "\n",
        "x_lr_train, x_lr_test, y_lr_train, y_lr_test = train_test_split(X_test, y_test, test_size=0.2, random_state=42)\n",
        "\n",
        "for num, alpha in enumerate(alphas):\n",
        "  lasso = Lasso(alpha=alpha).fit(x_lr_train, y_lr_train)\n",
        "  y_tr_pred = lasso.predict(x_lr_train)\n",
        "  y_te_pred = lasso.predict(x_lr_test)\n",
        "\n",
        "  coefs_lasso.append(lasso.coef_)\n",
        "  train_lasso_predicts.append(y_tr_pred)\n",
        "  test_lasso_predicts.append(y_te_pred)\n",
        "\n",
        "  mse_lasso_tr.append(mean_squared_error(y_lr_train, y_tr_pred))\n",
        "  mse_lasso_te.append(mean_squared_error(y_lr_test, y_te_pred))\n",
        "\n",
        "\n",
        "for num, alpha in enumerate(alphas):\n",
        "  ridge = Ridge(alpha=alpha).fit(x_lr_train, y_lr_train)\n",
        "  y_tr_pred = ridge.predict(x_lr_train)\n",
        "  y_te_pred = ridge.predict(x_lr_test)\n",
        "\n",
        "  coefs_ridge.append(lasso.coef_)\n",
        "  train_ridge_predicts.append(y_tr_pred)\n",
        "  test_ridge_predicts.append(y_te_pred)\n",
        "\n",
        "  mse_ridge_tr.append(mean_squared_error(y_lr_train, y_tr_pred))\n",
        "  mse_ridge_te.append(mean_squared_error(y_lr_test, y_te_pred))\n",
        "\n",
        "\n",
        "ridge_lasso = pd.DataFrame({\n",
        "    \"Train Lasso pred\": train_lasso_predicts,\n",
        "    \"Test Lasso pred\": test_lasso_predicts,\n",
        "    \"Train Ridge pred\": train_lasso_predicts,\n",
        "    \"Test Ridge pred\": test_lasso_predicts,\n",
        "    \"MSE tr Lasso\": mse_lasso_tr,\n",
        "    \"MSE te Lasso\": mse_lasso_te,\n",
        "    \"MSE tr Ridge\": mse_ridge_tr,\n",
        "    \"MSE te Ridge\": mse_ridge_te,\n",
        "    \"Lasso coef\": coefs_lasso,\n",
        "    \"Ridge coef\": coefs_ridge\n",
        "  })\n",
        "\n",
        "ridge_lasso"
      ],
      "metadata": {
        "id": "dBnXaGqCH2Ye",
        "colab": {
          "base_uri": "https://localhost:8080/",
          "height": 206
        },
        "outputId": "79b024f3-ace4-41c6-a785-ceea6096e263"
      },
      "execution_count": 85,
      "outputs": [
        {
          "output_type": "execute_result",
          "data": {
            "text/plain": [
              "                                    Train Lasso pred  \\\n",
              "0  [0.04774546120768518, 0.032003762868696495, 0....   \n",
              "1  [0.05023473091791646, 0.04941754685759059, 0.0...   \n",
              "2  [0.05037102959344262, 0.05037102959344262, 0.0...   \n",
              "3  [0.05037102959344262, 0.05037102959344262, 0.0...   \n",
              "4  [0.05037102959344262, 0.05037102959344262, 0.0...   \n",
              "\n",
              "                                     Test Lasso pred  \\\n",
              "0  [0.031085300488496132, 0.031085188452858462, 0...   \n",
              "1  [0.049369867579221384, 0.049369861763220134, 0...   \n",
              "2  [0.05037102959344262, 0.05037102959344262, 0.0...   \n",
              "3  [0.05037102959344262, 0.05037102959344262, 0.0...   \n",
              "4  [0.05037102959344262, 0.05037102959344262, 0.0...   \n",
              "\n",
              "                                    Train Ridge pred  \\\n",
              "0  [0.04774546120768518, 0.032003762868696495, 0....   \n",
              "1  [0.05023473091791646, 0.04941754685759059, 0.0...   \n",
              "2  [0.05037102959344262, 0.05037102959344262, 0.0...   \n",
              "3  [0.05037102959344262, 0.05037102959344262, 0.0...   \n",
              "4  [0.05037102959344262, 0.05037102959344262, 0.0...   \n",
              "\n",
              "                                     Test Ridge pred  MSE tr Lasso  \\\n",
              "0  [0.031085300488496132, 0.031085188452858462, 0...      0.008510   \n",
              "1  [0.049369867579221384, 0.049369861763220134, 0...      0.026215   \n",
              "2  [0.05037102959344262, 0.05037102959344262, 0.0...      0.027525   \n",
              "3  [0.05037102959344262, 0.05037102959344262, 0.0...      0.027525   \n",
              "4  [0.05037102959344262, 0.05037102959344262, 0.0...      0.027525   \n",
              "\n",
              "   MSE te Lasso  MSE tr Ridge  MSE te Ridge  \\\n",
              "0      0.001528      0.000574      0.000448   \n",
              "1      0.001949      0.000589      0.000460   \n",
              "2      0.001993      0.000595      0.000467   \n",
              "3      0.001993      0.000600      0.000477   \n",
              "4      0.001993      0.000602      0.000483   \n",
              "\n",
              "                                   Lasso coef                 Ridge coef  \n",
              "0   [0.06224790990267034, 0.0, 0.0, 0.0, 0.0]  [0.0, 0.0, 0.0, 0.0, 0.0]  \n",
              "1  [0.003231417517071486, 0.0, 0.0, 0.0, 0.0]  [0.0, 0.0, 0.0, 0.0, 0.0]  \n",
              "2                   [0.0, 0.0, 0.0, 0.0, 0.0]  [0.0, 0.0, 0.0, 0.0, 0.0]  \n",
              "3                   [0.0, 0.0, 0.0, 0.0, 0.0]  [0.0, 0.0, 0.0, 0.0, 0.0]  \n",
              "4                   [0.0, 0.0, 0.0, 0.0, 0.0]  [0.0, 0.0, 0.0, 0.0, 0.0]  "
            ],
            "text/html": [
              "\n",
              "  <div id=\"df-cbc8ce67-01f5-4f32-9691-ef85b9e1428b\" class=\"colab-df-container\">\n",
              "    <div>\n",
              "<style scoped>\n",
              "    .dataframe tbody tr th:only-of-type {\n",
              "        vertical-align: middle;\n",
              "    }\n",
              "\n",
              "    .dataframe tbody tr th {\n",
              "        vertical-align: top;\n",
              "    }\n",
              "\n",
              "    .dataframe thead th {\n",
              "        text-align: right;\n",
              "    }\n",
              "</style>\n",
              "<table border=\"1\" class=\"dataframe\">\n",
              "  <thead>\n",
              "    <tr style=\"text-align: right;\">\n",
              "      <th></th>\n",
              "      <th>Train Lasso pred</th>\n",
              "      <th>Test Lasso pred</th>\n",
              "      <th>Train Ridge pred</th>\n",
              "      <th>Test Ridge pred</th>\n",
              "      <th>MSE tr Lasso</th>\n",
              "      <th>MSE te Lasso</th>\n",
              "      <th>MSE tr Ridge</th>\n",
              "      <th>MSE te Ridge</th>\n",
              "      <th>Lasso coef</th>\n",
              "      <th>Ridge coef</th>\n",
              "    </tr>\n",
              "  </thead>\n",
              "  <tbody>\n",
              "    <tr>\n",
              "      <th>0</th>\n",
              "      <td>[0.04774546120768518, 0.032003762868696495, 0....</td>\n",
              "      <td>[0.031085300488496132, 0.031085188452858462, 0...</td>\n",
              "      <td>[0.04774546120768518, 0.032003762868696495, 0....</td>\n",
              "      <td>[0.031085300488496132, 0.031085188452858462, 0...</td>\n",
              "      <td>0.008510</td>\n",
              "      <td>0.001528</td>\n",
              "      <td>0.000574</td>\n",
              "      <td>0.000448</td>\n",
              "      <td>[0.06224790990267034, 0.0, 0.0, 0.0, 0.0]</td>\n",
              "      <td>[0.0, 0.0, 0.0, 0.0, 0.0]</td>\n",
              "    </tr>\n",
              "    <tr>\n",
              "      <th>1</th>\n",
              "      <td>[0.05023473091791646, 0.04941754685759059, 0.0...</td>\n",
              "      <td>[0.049369867579221384, 0.049369861763220134, 0...</td>\n",
              "      <td>[0.05023473091791646, 0.04941754685759059, 0.0...</td>\n",
              "      <td>[0.049369867579221384, 0.049369861763220134, 0...</td>\n",
              "      <td>0.026215</td>\n",
              "      <td>0.001949</td>\n",
              "      <td>0.000589</td>\n",
              "      <td>0.000460</td>\n",
              "      <td>[0.003231417517071486, 0.0, 0.0, 0.0, 0.0]</td>\n",
              "      <td>[0.0, 0.0, 0.0, 0.0, 0.0]</td>\n",
              "    </tr>\n",
              "    <tr>\n",
              "      <th>2</th>\n",
              "      <td>[0.05037102959344262, 0.05037102959344262, 0.0...</td>\n",
              "      <td>[0.05037102959344262, 0.05037102959344262, 0.0...</td>\n",
              "      <td>[0.05037102959344262, 0.05037102959344262, 0.0...</td>\n",
              "      <td>[0.05037102959344262, 0.05037102959344262, 0.0...</td>\n",
              "      <td>0.027525</td>\n",
              "      <td>0.001993</td>\n",
              "      <td>0.000595</td>\n",
              "      <td>0.000467</td>\n",
              "      <td>[0.0, 0.0, 0.0, 0.0, 0.0]</td>\n",
              "      <td>[0.0, 0.0, 0.0, 0.0, 0.0]</td>\n",
              "    </tr>\n",
              "    <tr>\n",
              "      <th>3</th>\n",
              "      <td>[0.05037102959344262, 0.05037102959344262, 0.0...</td>\n",
              "      <td>[0.05037102959344262, 0.05037102959344262, 0.0...</td>\n",
              "      <td>[0.05037102959344262, 0.05037102959344262, 0.0...</td>\n",
              "      <td>[0.05037102959344262, 0.05037102959344262, 0.0...</td>\n",
              "      <td>0.027525</td>\n",
              "      <td>0.001993</td>\n",
              "      <td>0.000600</td>\n",
              "      <td>0.000477</td>\n",
              "      <td>[0.0, 0.0, 0.0, 0.0, 0.0]</td>\n",
              "      <td>[0.0, 0.0, 0.0, 0.0, 0.0]</td>\n",
              "    </tr>\n",
              "    <tr>\n",
              "      <th>4</th>\n",
              "      <td>[0.05037102959344262, 0.05037102959344262, 0.0...</td>\n",
              "      <td>[0.05037102959344262, 0.05037102959344262, 0.0...</td>\n",
              "      <td>[0.05037102959344262, 0.05037102959344262, 0.0...</td>\n",
              "      <td>[0.05037102959344262, 0.05037102959344262, 0.0...</td>\n",
              "      <td>0.027525</td>\n",
              "      <td>0.001993</td>\n",
              "      <td>0.000602</td>\n",
              "      <td>0.000483</td>\n",
              "      <td>[0.0, 0.0, 0.0, 0.0, 0.0]</td>\n",
              "      <td>[0.0, 0.0, 0.0, 0.0, 0.0]</td>\n",
              "    </tr>\n",
              "  </tbody>\n",
              "</table>\n",
              "</div>\n",
              "    <div class=\"colab-df-buttons\">\n",
              "\n",
              "  <div class=\"colab-df-container\">\n",
              "    <button class=\"colab-df-convert\" onclick=\"convertToInteractive('df-cbc8ce67-01f5-4f32-9691-ef85b9e1428b')\"\n",
              "            title=\"Convert this dataframe to an interactive table.\"\n",
              "            style=\"display:none;\">\n",
              "\n",
              "  <svg xmlns=\"http://www.w3.org/2000/svg\" height=\"24px\" viewBox=\"0 -960 960 960\">\n",
              "    <path d=\"M120-120v-720h720v720H120Zm60-500h600v-160H180v160Zm220 220h160v-160H400v160Zm0 220h160v-160H400v160ZM180-400h160v-160H180v160Zm440 0h160v-160H620v160ZM180-180h160v-160H180v160Zm440 0h160v-160H620v160Z\"/>\n",
              "  </svg>\n",
              "    </button>\n",
              "\n",
              "  <style>\n",
              "    .colab-df-container {\n",
              "      display:flex;\n",
              "      gap: 12px;\n",
              "    }\n",
              "\n",
              "    .colab-df-convert {\n",
              "      background-color: #E8F0FE;\n",
              "      border: none;\n",
              "      border-radius: 50%;\n",
              "      cursor: pointer;\n",
              "      display: none;\n",
              "      fill: #1967D2;\n",
              "      height: 32px;\n",
              "      padding: 0 0 0 0;\n",
              "      width: 32px;\n",
              "    }\n",
              "\n",
              "    .colab-df-convert:hover {\n",
              "      background-color: #E2EBFA;\n",
              "      box-shadow: 0px 1px 2px rgba(60, 64, 67, 0.3), 0px 1px 3px 1px rgba(60, 64, 67, 0.15);\n",
              "      fill: #174EA6;\n",
              "    }\n",
              "\n",
              "    .colab-df-buttons div {\n",
              "      margin-bottom: 4px;\n",
              "    }\n",
              "\n",
              "    [theme=dark] .colab-df-convert {\n",
              "      background-color: #3B4455;\n",
              "      fill: #D2E3FC;\n",
              "    }\n",
              "\n",
              "    [theme=dark] .colab-df-convert:hover {\n",
              "      background-color: #434B5C;\n",
              "      box-shadow: 0px 1px 3px 1px rgba(0, 0, 0, 0.15);\n",
              "      filter: drop-shadow(0px 1px 2px rgba(0, 0, 0, 0.3));\n",
              "      fill: #FFFFFF;\n",
              "    }\n",
              "  </style>\n",
              "\n",
              "    <script>\n",
              "      const buttonEl =\n",
              "        document.querySelector('#df-cbc8ce67-01f5-4f32-9691-ef85b9e1428b button.colab-df-convert');\n",
              "      buttonEl.style.display =\n",
              "        google.colab.kernel.accessAllowed ? 'block' : 'none';\n",
              "\n",
              "      async function convertToInteractive(key) {\n",
              "        const element = document.querySelector('#df-cbc8ce67-01f5-4f32-9691-ef85b9e1428b');\n",
              "        const dataTable =\n",
              "          await google.colab.kernel.invokeFunction('convertToInteractive',\n",
              "                                                    [key], {});\n",
              "        if (!dataTable) return;\n",
              "\n",
              "        const docLinkHtml = 'Like what you see? Visit the ' +\n",
              "          '<a target=\"_blank\" href=https://colab.research.google.com/notebooks/data_table.ipynb>data table notebook</a>'\n",
              "          + ' to learn more about interactive tables.';\n",
              "        element.innerHTML = '';\n",
              "        dataTable['output_type'] = 'display_data';\n",
              "        await google.colab.output.renderOutput(dataTable, element);\n",
              "        const docLink = document.createElement('div');\n",
              "        docLink.innerHTML = docLinkHtml;\n",
              "        element.appendChild(docLink);\n",
              "      }\n",
              "    </script>\n",
              "  </div>\n",
              "\n",
              "\n",
              "<div id=\"df-81cafdb9-4ffb-42df-919b-718697965fca\">\n",
              "  <button class=\"colab-df-quickchart\" onclick=\"quickchart('df-81cafdb9-4ffb-42df-919b-718697965fca')\"\n",
              "            title=\"Suggest charts\"\n",
              "            style=\"display:none;\">\n",
              "\n",
              "<svg xmlns=\"http://www.w3.org/2000/svg\" height=\"24px\"viewBox=\"0 0 24 24\"\n",
              "     width=\"24px\">\n",
              "    <g>\n",
              "        <path d=\"M19 3H5c-1.1 0-2 .9-2 2v14c0 1.1.9 2 2 2h14c1.1 0 2-.9 2-2V5c0-1.1-.9-2-2-2zM9 17H7v-7h2v7zm4 0h-2V7h2v10zm4 0h-2v-4h2v4z\"/>\n",
              "    </g>\n",
              "</svg>\n",
              "  </button>\n",
              "\n",
              "<style>\n",
              "  .colab-df-quickchart {\n",
              "      --bg-color: #E8F0FE;\n",
              "      --fill-color: #1967D2;\n",
              "      --hover-bg-color: #E2EBFA;\n",
              "      --hover-fill-color: #174EA6;\n",
              "      --disabled-fill-color: #AAA;\n",
              "      --disabled-bg-color: #DDD;\n",
              "  }\n",
              "\n",
              "  [theme=dark] .colab-df-quickchart {\n",
              "      --bg-color: #3B4455;\n",
              "      --fill-color: #D2E3FC;\n",
              "      --hover-bg-color: #434B5C;\n",
              "      --hover-fill-color: #FFFFFF;\n",
              "      --disabled-bg-color: #3B4455;\n",
              "      --disabled-fill-color: #666;\n",
              "  }\n",
              "\n",
              "  .colab-df-quickchart {\n",
              "    background-color: var(--bg-color);\n",
              "    border: none;\n",
              "    border-radius: 50%;\n",
              "    cursor: pointer;\n",
              "    display: none;\n",
              "    fill: var(--fill-color);\n",
              "    height: 32px;\n",
              "    padding: 0;\n",
              "    width: 32px;\n",
              "  }\n",
              "\n",
              "  .colab-df-quickchart:hover {\n",
              "    background-color: var(--hover-bg-color);\n",
              "    box-shadow: 0 1px 2px rgba(60, 64, 67, 0.3), 0 1px 3px 1px rgba(60, 64, 67, 0.15);\n",
              "    fill: var(--button-hover-fill-color);\n",
              "  }\n",
              "\n",
              "  .colab-df-quickchart-complete:disabled,\n",
              "  .colab-df-quickchart-complete:disabled:hover {\n",
              "    background-color: var(--disabled-bg-color);\n",
              "    fill: var(--disabled-fill-color);\n",
              "    box-shadow: none;\n",
              "  }\n",
              "\n",
              "  .colab-df-spinner {\n",
              "    border: 2px solid var(--fill-color);\n",
              "    border-color: transparent;\n",
              "    border-bottom-color: var(--fill-color);\n",
              "    animation:\n",
              "      spin 1s steps(1) infinite;\n",
              "  }\n",
              "\n",
              "  @keyframes spin {\n",
              "    0% {\n",
              "      border-color: transparent;\n",
              "      border-bottom-color: var(--fill-color);\n",
              "      border-left-color: var(--fill-color);\n",
              "    }\n",
              "    20% {\n",
              "      border-color: transparent;\n",
              "      border-left-color: var(--fill-color);\n",
              "      border-top-color: var(--fill-color);\n",
              "    }\n",
              "    30% {\n",
              "      border-color: transparent;\n",
              "      border-left-color: var(--fill-color);\n",
              "      border-top-color: var(--fill-color);\n",
              "      border-right-color: var(--fill-color);\n",
              "    }\n",
              "    40% {\n",
              "      border-color: transparent;\n",
              "      border-right-color: var(--fill-color);\n",
              "      border-top-color: var(--fill-color);\n",
              "    }\n",
              "    60% {\n",
              "      border-color: transparent;\n",
              "      border-right-color: var(--fill-color);\n",
              "    }\n",
              "    80% {\n",
              "      border-color: transparent;\n",
              "      border-right-color: var(--fill-color);\n",
              "      border-bottom-color: var(--fill-color);\n",
              "    }\n",
              "    90% {\n",
              "      border-color: transparent;\n",
              "      border-bottom-color: var(--fill-color);\n",
              "    }\n",
              "  }\n",
              "</style>\n",
              "\n",
              "  <script>\n",
              "    async function quickchart(key) {\n",
              "      const quickchartButtonEl =\n",
              "        document.querySelector('#' + key + ' button');\n",
              "      quickchartButtonEl.disabled = true;  // To prevent multiple clicks.\n",
              "      quickchartButtonEl.classList.add('colab-df-spinner');\n",
              "      try {\n",
              "        const charts = await google.colab.kernel.invokeFunction(\n",
              "            'suggestCharts', [key], {});\n",
              "      } catch (error) {\n",
              "        console.error('Error during call to suggestCharts:', error);\n",
              "      }\n",
              "      quickchartButtonEl.classList.remove('colab-df-spinner');\n",
              "      quickchartButtonEl.classList.add('colab-df-quickchart-complete');\n",
              "    }\n",
              "    (() => {\n",
              "      let quickchartButtonEl =\n",
              "        document.querySelector('#df-81cafdb9-4ffb-42df-919b-718697965fca button');\n",
              "      quickchartButtonEl.style.display =\n",
              "        google.colab.kernel.accessAllowed ? 'block' : 'none';\n",
              "    })();\n",
              "  </script>\n",
              "</div>\n",
              "    </div>\n",
              "  </div>\n"
            ],
            "application/vnd.google.colaboratory.intrinsic+json": {
              "type": "dataframe",
              "variable_name": "ridge_lasso",
              "summary": "{\n  \"name\": \"ridge_lasso\",\n  \"rows\": 5,\n  \"fields\": [\n    {\n      \"column\": \"Train Lasso pred\",\n      \"properties\": {\n        \"dtype\": \"object\",\n        \"semantic_type\": \"\",\n        \"description\": \"\"\n      }\n    },\n    {\n      \"column\": \"Test Lasso pred\",\n      \"properties\": {\n        \"dtype\": \"object\",\n        \"semantic_type\": \"\",\n        \"description\": \"\"\n      }\n    },\n    {\n      \"column\": \"Train Ridge pred\",\n      \"properties\": {\n        \"dtype\": \"object\",\n        \"semantic_type\": \"\",\n        \"description\": \"\"\n      }\n    },\n    {\n      \"column\": \"Test Ridge pred\",\n      \"properties\": {\n        \"dtype\": \"object\",\n        \"semantic_type\": \"\",\n        \"description\": \"\"\n      }\n    },\n    {\n      \"column\": \"MSE tr Lasso\",\n      \"properties\": {\n        \"dtype\": \"number\",\n        \"std\": 0.008376604167851423,\n        \"min\": 0.008509974989367702,\n        \"max\": 0.027525183171360827,\n        \"num_unique_values\": 3,\n        \"samples\": [\n          0.008509974989367702,\n          0.026214922705047352,\n          0.027525183171360827\n        ],\n        \"semantic_type\": \"\",\n        \"description\": \"\"\n      }\n    },\n    {\n      \"column\": \"MSE te Lasso\",\n      \"properties\": {\n        \"dtype\": \"number\",\n        \"std\": 0.00020398368353633203,\n        \"min\": 0.0015277623782490154,\n        \"max\": 0.001992799796701236,\n        \"num_unique_values\": 3,\n        \"samples\": [\n          0.0015277623782490154,\n          0.001949363190728908,\n          0.001992799796701236\n        ],\n        \"semantic_type\": \"\",\n        \"description\": \"\"\n      }\n    },\n    {\n      \"column\": \"MSE tr Ridge\",\n      \"properties\": {\n        \"dtype\": \"number\",\n        \"std\": 1.1447604535131883e-05,\n        \"min\": 0.0005735031646119792,\n        \"max\": 0.000602214208535849,\n        \"num_unique_values\": 5,\n        \"samples\": [\n          0.0005889702455920433,\n          0.000602214208535849,\n          0.0005947743558290221\n        ],\n        \"semantic_type\": \"\",\n        \"description\": \"\"\n      }\n    },\n    {\n      \"column\": \"MSE te Ridge\",\n      \"properties\": {\n        \"dtype\": \"number\",\n        \"std\": 1.3924740696617255e-05,\n        \"min\": 0.0004479319417318178,\n        \"max\": 0.00048332519174913626,\n        \"num_unique_values\": 5,\n        \"samples\": [\n          0.0004598575621462695,\n          0.00048332519174913626,\n          0.0004672089493222388\n        ],\n        \"semantic_type\": \"\",\n        \"description\": \"\"\n      }\n    },\n    {\n      \"column\": \"Lasso coef\",\n      \"properties\": {\n        \"dtype\": \"object\",\n        \"semantic_type\": \"\",\n        \"description\": \"\"\n      }\n    },\n    {\n      \"column\": \"Ridge coef\",\n      \"properties\": {\n        \"dtype\": \"object\",\n        \"semantic_type\": \"\",\n        \"description\": \"\"\n      }\n    }\n  ]\n}"
            }
          },
          "metadata": {},
          "execution_count": 85
        }
      ]
    },
    {
      "cell_type": "code",
      "source": [
        "coefs_lasso = np.array(coefs_lasso)\n",
        "coefs_ridge = np.array(coefs_ridge)\n",
        "\n",
        "plt.figure(figsize=(6, 3))\n",
        "\n",
        "for coef, feature in zip(coefs_lasso.T, df_copy[columns].columns):\n",
        "    plt.plot(alphas, coef, label=feature, color=np.random.rand(3))\n",
        "\n",
        "plt.legend(loc=\"upper right\", bbox_to_anchor=(1.4, 0.95))\n",
        "plt.xlabel(\"alpha\")\n",
        "plt.ylabel(\"feature weight\")\n",
        "plt.title(\"Lasso\")\n",
        "\n",
        "plt.figure(figsize=(6, 3))\n",
        "\n",
        "for coef, feature in zip(coefs_ridge.T, df_copy[columns].columns):\n",
        "    plt.plot(alphas, coef, label=feature, color=np.random.rand(3))\n",
        "\n",
        "plt.legend(loc=\"upper right\", bbox_to_anchor=(1.4, 0.95))\n",
        "plt.xlabel(\"alpha\")\n",
        "plt.ylabel(\"feature weight\")\n",
        "plt.title(\"Ridge\")"
      ],
      "metadata": {
        "colab": {
          "base_uri": "https://localhost:8080/",
          "height": 666
        },
        "id": "jCffbFmd1YJD",
        "outputId": "5e4cdbe9-f85c-4592-fdec-508c3b1f1abe"
      },
      "execution_count": 86,
      "outputs": [
        {
          "output_type": "execute_result",
          "data": {
            "text/plain": [
              "Text(0.5, 1.0, 'Ridge')"
            ]
          },
          "metadata": {},
          "execution_count": 86
        },
        {
          "output_type": "display_data",
          "data": {
            "text/plain": [
              "<Figure size 600x300 with 1 Axes>"
            ],
            "image/png": "[encoded data removed]"
          },
          "metadata": {}
        },
        {
          "output_type": "display_data",
          "data": {
            "text/plain": [
              "<Figure size 600x300 with 1 Axes>"
            ],
            "image/png": "[encoded data removed]"
          },
          "metadata": {}
        }
      ]
    },
    {
      "cell_type": "markdown",
      "source": [
        "## Чи можливо зменшити кількість регресорів без суттєвої шкоди для моделі?"
      ],
      "metadata": {
        "id": "cbA4TllqBa3E"
      }
    },
    {
      "cell_type": "code",
      "source": [
        "df = pd.read_csv(\"/content/sample_data/NAICExpense.csv\")\n",
        "print(df.head(), \"\\n\")\n",
        "print(f\"Розмір таблиці: {df.shape}\")"
      ],
      "metadata": {
        "colab": {
          "base_uri": "https://localhost:8080/"
        },
        "id": "GyxCkRclke9N",
        "outputId": "829046f5-9e00-4fb9-9698-8f355426a548"
      },
      "execution_count": 87,
      "outputs": [
        {
          "output_type": "stream",
          "name": "stdout",
          "text": [
            "                         COMPANY_NAME  GROUP  MUTUAL  STOCK         RBC  \\\n",
            "0            Tift Area Captive Ins Co      0       0      1   228184000   \n",
            "1  Alliance Of Nonprofits For Ins RRG      0       0      0  1627708000   \n",
            "2    GA Timber Harvesters Mut Captive      0       1      0   422907000   \n",
            "3         American Natl Lloyds Ins Co      1       0      0   652906000   \n",
            "4                   Chubb Natl Ins Co      1       0      1  8124624000   \n",
            "\n",
            "   EXPENSES  STAFFWAGE  AGENTWAGE  LONGLOSS  SHORTLOSS  GPWPERSONAL   GPWCOMM  \\\n",
            "0  0.000802  84.405080  77.460997  0.000187   0.000000     0.000000  0.001375   \n",
            "1  0.004488  81.567543  84.878023  0.002782   0.000000     0.000000  0.012273   \n",
            "2  0.001905  84.405080  77.460997  0.001012   0.001330     0.000000  0.005028   \n",
            "3  0.002291  82.497883  75.710707  0.000000   0.002980     0.029545  0.001986   \n",
            "4  0.018296  79.264952  78.247902  0.010794   0.011777     0.040614  0.058094   \n",
            "\n",
            "     ASSETS      CASH  LIQUIDRATIO  \n",
            "0  0.002950  0.003258   110.456606  \n",
            "1  0.022170  0.019760    89.129615  \n",
            "2  0.004617  0.003500    75.794716  \n",
            "3  0.043720  0.040935    93.629838  \n",
            "4  0.144773  0.138424    95.614597   \n",
            "\n",
            "Розмір таблиці: (384, 15)\n"
          ]
        }
      ]
    },
    {
      "cell_type": "code",
      "source": [
        "'''\n",
        "\n",
        "GPWPERSONAL - Gross premium written for personal lines, in millions of dollars (Сума виписаної премії для персональних ліній)\n",
        "GPWCOMM - Gross premium written for commercial lines, in millions of dollars (Сума виписаної премії для комерційних премій)\n",
        "ASSETS - Net admitted assets, in millions of dollars (Чисті узгоджені активи)\n",
        "CASH - Cash and invested assets, in millions of dollars (Грошові та інвестовані активи)\n",
        "LIQUIDRATIO - The ratio of the liquid assets to the current liabilities level (Відношення рівня ліквідних активів до поточних зобов'язань)\n",
        "\n",
        "'''\n",
        "\n",
        "# Щоб зрозуміти, чи можливо зменшити кількість регуляризаторів,\n",
        "# треба оцінити їхню значущість\n",
        "\n",
        "df = df.apply(pd.to_numeric, errors=\"ignore\")\n",
        "df_copy = df.fillna(df.mean())\n",
        "\n",
        "columns = [\"GPWPERSONAL\", \"GPWCOMM\", \"CASH\", \"LIQUIDRATIO\"] # Без ASSETS\n",
        "\n",
        "# Нормалізація даних\n",
        "for column in columns:\n",
        "  df_copy[column] = (df_copy[column] - df_copy[column].mean()) / df_copy[column].std()\n",
        "\n",
        "X = df_copy[columns].values\n",
        "y = df_copy[\"EXPENSES\"]\n",
        "\n",
        "\n",
        "from sklearn.linear_model import LinearRegression\n",
        "\n",
        "\n",
        "X_train, X_test, y_train, y_test = train_test_split(X, y, test_size=0.2, random_state=42)\n",
        "\n",
        "linear_reg = LinearRegression().fit(X_train, y_train)\n",
        "lr_pred = linear_reg.predict(X_test)\n",
        "\n",
        "print(f\"X_train: {X_train.shape}; X_test: {X_test.shape}; y_train: {y_train.shape}; y_test: {y_test.shape}\")\n",
        "\n",
        "\n",
        "from sklearn.metrics import mean_squared_error\n",
        "\n",
        "\n",
        "def mse(x, y):\n",
        "  n = len(x.shape)\n",
        "  return np.sum((x - y) ** 2) / n\n",
        "\n",
        "\n",
        "print(f\"mse_f: {mean_squared_error(y_test, lr_pred)}, mse: {mse(lr_pred, y_test)}\")"
      ],
      "metadata": {
        "colab": {
          "base_uri": "https://localhost:8080/"
        },
        "id": "oObqOrBrBxJj",
        "outputId": "129e1105-b01a-42ef-e192-77eb7f9e00c8"
      },
      "execution_count": 88,
      "outputs": [
        {
          "output_type": "stream",
          "name": "stdout",
          "text": [
            "X_train: (307, 4); X_test: (77, 4); y_train: (307,); y_test: (77,)\n",
            "mse_f: 0.0020390967927487983, mse: 0.15701045304165748\n"
          ]
        },
        {
          "output_type": "stream",
          "name": "stderr",
          "text": [
            "<ipython-input-88-fb7315292bcc>:15: FutureWarning: The default value of numeric_only in DataFrame.mean is deprecated. In a future version, it will default to False. In addition, specifying 'numeric_only=None' is deprecated. Select only valid columns or specify the value of numeric_only to silence this warning.\n",
            "  df_copy = df.fillna(df.mean())\n"
          ]
        }
      ]
    },
    {
      "cell_type": "code",
      "source": [
        "plt.grid()\n",
        "plt.scatter(lr_pred, y_test, alpha=0.6)\n",
        "plt.xlabel(\"predict\")\n",
        "plt.ylabel(\"y_test\")\n",
        "plt.show()"
      ],
      "metadata": {
        "colab": {
          "base_uri": "https://localhost:8080/",
          "height": 449
        },
        "id": "7Vo8LvhMnkBe",
        "outputId": "bee7bf3c-bfe9-442d-c06c-1d3732e27f83"
      },
      "execution_count": 89,
      "outputs": [
        {
          "output_type": "display_data",
          "data": {
            "text/plain": [
              "<Figure size 640x480 with 1 Axes>"
            ],
            "image/png": "[encoded data removed]"
          },
          "metadata": {}
        }
      ]
    },
    {
      "cell_type": "code",
      "source": [
        "x_te, x_val, y_te, y_val = train_test_split(X_test, y_test, test_size=0.3)\n",
        "\n",
        "lr = LinearRegression().fit(x_te, y_te)\n",
        "\n",
        "print(f\"x_te: {x_te.shape}; x_val: {x_val.shape}; y_te: {y_te.shape}; y_val: {y_val.shape}\")\n",
        "\n",
        "print(f\"mse_te: {mse(lr.predict(x_te), y_te)}, mse_val: {mse(lr.predict(x_val), y_val)}\")\n",
        "print(f\"mse_f_te: {mean_squared_error(y_te, lr.predict(x_te))}, mse_f_val: {mean_squared_error(y_val, lr.predict(x_val))}\")"
      ],
      "metadata": {
        "colab": {
          "base_uri": "https://localhost:8080/"
        },
        "id": "2HfSBoxMnU5K",
        "outputId": "7a641102-96af-44ef-ca29-2a65983d7c4b"
      },
      "execution_count": 90,
      "outputs": [
        {
          "output_type": "stream",
          "name": "stdout",
          "text": [
            "x_te: (53, 4); x_val: (24, 4); y_te: (53,); y_val: (24,)\n",
            "mse_te: 0.0217651136396, mse_val: 0.026735551160031103\n",
            "mse_f_te: 0.0004106625215018868, mse_f_val: 0.0011139812983346294\n"
          ]
        }
      ]
    },
    {
      "cell_type": "code",
      "source": [
        "plt.grid()\n",
        "plt.subplots_adjust(right=1.2)\n",
        "plt.scatter(lr.predict(x_te), y_te, alpha=0.4)\n",
        "plt.scatter(lr.predict(x_val), y_val, alpha=0.4, color=\"orange\")\n",
        "plt.show()"
      ],
      "metadata": {
        "colab": {
          "base_uri": "https://localhost:8080/",
          "height": 430
        },
        "id": "iJ7_LAdinril",
        "outputId": "1e7c2780-d62d-474d-985f-7ffd2b32e45b"
      },
      "execution_count": 91,
      "outputs": [
        {
          "output_type": "display_data",
          "data": {
            "text/plain": [
              "<Figure size 640x480 with 1 Axes>"
            ],
            "image/png": "[encoded data removed]"
          },
          "metadata": {}
        }
      ]
    },
    {
      "cell_type": "markdown",
      "source": [
        "## Висновок \"Без ASSETS\"\n",
        "Можна спостерігати невелике покращення в оцінці між `train` і `test` вибірках\n",
        "\n",
        "```\n",
        "mse_f_1: 0.002083086260759995, mse_1: 0.16039764207851961\n",
        "mse_f_2: 0.0020390967927487983, mse_2: 0.15701045304165748\n",
        "```\n",
        "А оцінка при розподілі вибірок на `train`, `test`, `value` трішки гірша\n",
        "\n",
        "```\n",
        "mse_te_1: 0.030629980547456605, mse_val_1: 0.007174664028471184\n",
        "mse_f_te_1: 0.0005779241612727661, mse_f_val_1: 0.00029894433451963263\n",
        "```\n",
        "\n",
        "```\n",
        "mse_te_2: 0.02650884155420425, mse_val_2: 0.0208336335357253\n",
        "mse_f_te_2: 0.0005001668217774387, mse_f_val_2: 0.0008680680639885542\n",
        "```\n",
        "### Спробуємо прибрати ще\n",
        "\n",
        "\n",
        "\n",
        "\n",
        "\n",
        "\n"
      ],
      "metadata": {
        "id": "4_CtNdNHoUiR"
      }
    },
    {
      "cell_type": "code",
      "source": [
        "df = df.apply(pd.to_numeric, errors=\"ignore\")\n",
        "df_copy = df.fillna(df.mean())\n",
        "\n",
        "columns = [\"GPWPERSONAL\", \"GPWCOMM\", \"CASH\"] # Без ASSETS, LIQUIDRATIO\n",
        "\n",
        "# Нормалізація даних\n",
        "for column in columns:\n",
        "  df_copy[column] = (df_copy[column] - df_copy[column].mean()) / df_copy[column].std()\n",
        "\n",
        "X = df_copy[columns].values\n",
        "y = df_copy[\"EXPENSES\"]\n",
        "\n",
        "\n",
        "from sklearn.linear_model import LinearRegression\n",
        "\n",
        "\n",
        "X_train, X_test, y_train, y_test = train_test_split(X, y, test_size=0.2, random_state=42)\n",
        "\n",
        "linear_reg = LinearRegression().fit(X_train, y_train)\n",
        "lr_pred = linear_reg.predict(X_test)\n",
        "\n",
        "print(f\"X_train: {X_train.shape}; X_test: {X_test.shape}; y_train: {y_train.shape}; y_test: {y_test.shape}\")\n",
        "\n",
        "\n",
        "from sklearn.metrics import mean_squared_error\n",
        "\n",
        "\n",
        "def mse(x, y):\n",
        "  n = len(x.shape)\n",
        "  return np.sum((x - y) ** 2) / n\n",
        "\n",
        "\n",
        "print(f\"mse_f: {mean_squared_error(y_test, lr_pred)}, mse: {mse(lr_pred, y_test)}\")"
      ],
      "metadata": {
        "colab": {
          "base_uri": "https://localhost:8080/"
        },
        "id": "cquRFLRvpcpV",
        "outputId": "69ed0b7b-d7ea-43be-d692-cd53d7f0ee56"
      },
      "execution_count": 92,
      "outputs": [
        {
          "output_type": "stream",
          "name": "stdout",
          "text": [
            "X_train: (307, 3); X_test: (77, 3); y_train: (307,); y_test: (77,)\n",
            "mse_f: 0.0020474740184350517, mse: 0.15765549941949897\n"
          ]
        },
        {
          "output_type": "stream",
          "name": "stderr",
          "text": [
            "<ipython-input-92-ef59e2c0876e>:2: FutureWarning: The default value of numeric_only in DataFrame.mean is deprecated. In a future version, it will default to False. In addition, specifying 'numeric_only=None' is deprecated. Select only valid columns or specify the value of numeric_only to silence this warning.\n",
            "  df_copy = df.fillna(df.mean())\n"
          ]
        }
      ]
    },
    {
      "cell_type": "code",
      "source": [
        "plt.grid()\n",
        "plt.scatter(lr_pred, y_test, alpha=0.6)\n",
        "plt.xlabel(\"predict\")\n",
        "plt.ylabel(\"y_test\")\n",
        "plt.show()"
      ],
      "metadata": {
        "colab": {
          "base_uri": "https://localhost:8080/",
          "height": 449
        },
        "id": "xCF593bmrK58",
        "outputId": "d3dffc34-20f7-45b9-83f6-d1146e99d9df"
      },
      "execution_count": 93,
      "outputs": [
        {
          "output_type": "display_data",
          "data": {
            "text/plain": [
              "<Figure size 640x480 with 1 Axes>"
            ],
            "image/png": "[encoded data removed]"
          },
          "metadata": {}
        }
      ]
    },
    {
      "cell_type": "code",
      "source": [
        "x_te, x_val, y_te, y_val = train_test_split(X_test, y_test, test_size=0.3)\n",
        "\n",
        "lr = LinearRegression().fit(x_te, y_te)\n",
        "\n",
        "print(f\"x_te: {x_te.shape}; x_val: {x_val.shape}; y_te: {y_te.shape}; y_val: {y_val.shape}\")\n",
        "\n",
        "print(f\"mse_te: {mse(lr.predict(x_te), y_te)}, mse_val: {mse(lr.predict(x_val), y_val)}\")\n",
        "print(f\"mse_f_te: {mean_squared_error(y_te, lr.predict(x_te))}, mse_f_val: {mean_squared_error(y_val, lr.predict(x_val))}\")"
      ],
      "metadata": {
        "colab": {
          "base_uri": "https://localhost:8080/"
        },
        "id": "dIk3V74brM6x",
        "outputId": "58d200d7-3ca0-4675-9398-ac6bc2f5ffa7"
      },
      "execution_count": 96,
      "outputs": [
        {
          "output_type": "stream",
          "name": "stdout",
          "text": [
            "x_te: (53, 3); x_val: (24, 3); y_te: (53,); y_val: (24,)\n",
            "mse_te: 0.021142493447790664, mse_val: 0.07230860206767105\n",
            "mse_f_te: 0.0003989149707130314, mse_f_val: 0.0030128584194862936\n"
          ]
        }
      ]
    },
    {
      "cell_type": "code",
      "source": [
        "plt.grid()\n",
        "plt.subplots_adjust(right=1.2)\n",
        "plt.scatter(lr.predict(x_te), y_te, alpha=0.4)\n",
        "plt.scatter(lr.predict(x_val), y_val, alpha=0.4, color=\"orange\")\n",
        "plt.show()"
      ],
      "metadata": {
        "colab": {
          "base_uri": "https://localhost:8080/",
          "height": 430
        },
        "id": "rR2gapeKrNfv",
        "outputId": "24069ce6-3a3c-46a0-c4db-cbf8f42fbbe0"
      },
      "execution_count": 97,
      "outputs": [
        {
          "output_type": "display_data",
          "data": {
            "text/plain": [
              "<Figure size 640x480 with 1 Axes>"
            ],
            "image/png": "[encoded data removed]"
          },
          "metadata": {}
        }
      ]
    },
    {
      "cell_type": "markdown",
      "source": [
        "## Висновок \"Без ASSETS і LIQUIDRATIO\"\n",
        "\n",
        "Вже майже явно гірші значення MSE для `train`, `test`, `value`, але, насправді, модель без особливих змін\n",
        "\n",
        "### А зараз спробуємо прибрати регуляризатори, які явно вказують на можливі витрати"
      ],
      "metadata": {
        "id": "iPPF4CUprxCy"
      }
    },
    {
      "cell_type": "code",
      "source": [
        "df = df.apply(pd.to_numeric, errors=\"ignore\")\n",
        "df_copy = df.fillna(df.mean())\n",
        "\n",
        "columns = [\"ASSETS\", \"CASH\", \"LIQUIDRATIO\"] # Без GPWPERSONAL, GPWCOMM\n",
        "\n",
        "# Нормалізація даних\n",
        "for column in columns:\n",
        "  df_copy[column] = (df_copy[column] - df_copy[column].mean()) / df_copy[column].std()\n",
        "\n",
        "X = df_copy[columns].values\n",
        "y = df_copy[\"EXPENSES\"]\n",
        "\n",
        "\n",
        "from sklearn.linear_model import LinearRegression\n",
        "\n",
        "\n",
        "X_train, X_test, y_train, y_test = train_test_split(X, y, test_size=0.2, random_state=42)\n",
        "\n",
        "linear_reg = LinearRegression().fit(X_train, y_train)\n",
        "lr_pred = linear_reg.predict(X_test)\n",
        "\n",
        "print(f\"X_train: {X_train.shape}; X_test: {X_test.shape}; y_train: {y_train.shape}; y_test: {y_test.shape}\")\n",
        "\n",
        "\n",
        "from sklearn.metrics import mean_squared_error\n",
        "\n",
        "\n",
        "def mse(x, y):\n",
        "  n = len(x.shape)\n",
        "  return np.sum((x - y) ** 2) / n\n",
        "\n",
        "\n",
        "print(f\"mse_f: {mean_squared_error(y_test, lr_pred)}, mse: {mse(lr_pred, y_test)}\")"
      ],
      "metadata": {
        "colab": {
          "base_uri": "https://localhost:8080/"
        },
        "id": "M5yTm5vAspFD",
        "outputId": "08e951b0-5e48-4d2d-91c4-90835a18527d"
      },
      "execution_count": 107,
      "outputs": [
        {
          "output_type": "stream",
          "name": "stdout",
          "text": [
            "X_train: (307, 3); X_test: (77, 3); y_train: (307,); y_test: (77,)\n",
            "mse_f: 0.005149303659539393, mse: 0.3964963817845332\n"
          ]
        },
        {
          "output_type": "stream",
          "name": "stderr",
          "text": [
            "<ipython-input-107-a1a40cc10f2b>:2: FutureWarning: The default value of numeric_only in DataFrame.mean is deprecated. In a future version, it will default to False. In addition, specifying 'numeric_only=None' is deprecated. Select only valid columns or specify the value of numeric_only to silence this warning.\n",
            "  df_copy = df.fillna(df.mean())\n"
          ]
        }
      ]
    },
    {
      "cell_type": "code",
      "source": [
        "plt.grid()\n",
        "plt.scatter(lr_pred, y_test, alpha=0.6)\n",
        "plt.xlabel(\"predict\")\n",
        "plt.ylabel(\"y_test\")\n",
        "plt.show()"
      ],
      "metadata": {
        "colab": {
          "base_uri": "https://localhost:8080/",
          "height": 449
        },
        "id": "HWcOTO7psriY",
        "outputId": "87771903-1883-4bcc-a8c9-e548c2ed5168"
      },
      "execution_count": 108,
      "outputs": [
        {
          "output_type": "display_data",
          "data": {
            "text/plain": [
              "<Figure size 640x480 with 1 Axes>"
            ],
            "image/png": "[encoded data removed]"
          },
          "metadata": {}
        }
      ]
    },
    {
      "cell_type": "code",
      "source": [
        "x_te, x_val, y_te, y_val = train_test_split(X_test, y_test, test_size=0.3)\n",
        "\n",
        "lr = LinearRegression().fit(x_te, y_te)\n",
        "\n",
        "print(f\"x_te: {x_te.shape}; x_val: {x_val.shape}; y_te: {y_te.shape}; y_val: {y_val.shape}\")\n",
        "\n",
        "print(f\"mse_te: {mse(lr.predict(x_te), y_te)}, mse_val: {mse(lr.predict(x_val), y_val)}\")\n",
        "print(f\"mse_f_te: {mean_squared_error(y_te, lr.predict(x_te))}, mse_f_val: {mean_squared_error(y_val, lr.predict(x_val))}\")"
      ],
      "metadata": {
        "colab": {
          "base_uri": "https://localhost:8080/"
        },
        "id": "Ir-a6i40stR4",
        "outputId": "48cba6e5-f462-4ab2-8c92-b4ef923cc793"
      },
      "execution_count": 110,
      "outputs": [
        {
          "output_type": "stream",
          "name": "stdout",
          "text": [
            "x_te: (53, 3); x_val: (24, 3); y_te: (53,); y_val: (24,)\n",
            "mse_te: 0.05128678222548881, mse_val: 0.00238623991558501\n",
            "mse_f_te: 0.0009676751363299776, mse_f_val: 9.942666314937541e-05\n"
          ]
        }
      ]
    },
    {
      "cell_type": "code",
      "source": [
        "plt.grid()\n",
        "plt.subplots_adjust(right=1.2)\n",
        "plt.scatter(lr.predict(x_te), y_te, alpha=0.4)\n",
        "plt.scatter(lr.predict(x_val), y_val, alpha=0.4, color=\"orange\")\n",
        "plt.show()"
      ],
      "metadata": {
        "colab": {
          "base_uri": "https://localhost:8080/",
          "height": 430
        },
        "id": "OeXsFizBsu8x",
        "outputId": "2c471d09-8a7e-48da-f676-b3b49bf96f32"
      },
      "execution_count": 111,
      "outputs": [
        {
          "output_type": "display_data",
          "data": {
            "text/plain": [
              "<Figure size 640x480 with 1 Axes>"
            ],
            "image/png": "[encoded data removed]"
          },
          "metadata": {}
        }
      ]
    },
    {
      "cell_type": "markdown",
      "source": [
        "## Висновок \"Без GPWPERSONAL і GPWCOMM\"\n",
        "\n",
        "Явно зросли значення MSE оцінки, що не є дуже добрим показником\n",
        "\n",
        "На графіку можемо спостерігати, як відстань між деякими ознаками є зависокою (слабка кореляція), що може призвести до неточностей у передбаченнях\n",
        "\n",
        "При декількох повтореннях процедури запуску коду (навчання) ознаки на графіках і значення оцінок сильно коливаються і не є стабільними"
      ],
      "metadata": {
        "id": "ttQFJ056tzHL"
      }
    },
    {
      "cell_type": "markdown",
      "source": [
        "\n",
        "\n",
        "---\n",
        "\n",
        "#Висновок\n",
        "\n",
        "## 1) Якість побудованої лінійної регресії за допомогою `LinearRegression` from `sklearn.linear_model` для передбачення витрат є досить хорошою\n",
        "\n",
        "## 2) Покращення оцінки за допомогою регуляризаторів (`Lasso`, `Ridge`)\n",
        "#### При регуляризаторі `Ridge` значне покращення: оцінка MSE мала нулі до 4 знаку після коми\n",
        "\n",
        "#### **До Ridge / Lasso**:\n",
        "\n",
        "```\n",
        "mse_f: 0.002083086260759995, mse: 0.16039764207851961\n",
        "\n",
        "mse_te: 0.03201179276731332, mse_val: 0.007928345228745396\n",
        "\n",
        "mse_f_te: 0.000603996089949308, mse_f_val: 0.0003303477178643915\n",
        "```\n",
        "\n",
        "#### **Після**:\n",
        "\n",
        "```\n",
        "MSE train Lasso: 0.008510, 0.026215, 0.027525, 0.027525\n",
        "\n",
        "MSE test Lasso: 0.001528, 0.001949, 0.001993, 0.001993\n",
        "\n",
        "MSE train Ridge: 0.000574, 0.000589, 0.000589, 0.000600\n",
        "\n",
        "MSE test Ridge: 0.000448, 0.000460, 0.000467, 0.000477\n",
        "```\n",
        "\n",
        "## 3) Насправді, можна зменшити кількість регуляризаторів без суттєвої шкоди для моделі\n",
        "\n"
      ],
      "metadata": {
        "id": "9rrGnqemvG0L"
      }
    }
  ]
}